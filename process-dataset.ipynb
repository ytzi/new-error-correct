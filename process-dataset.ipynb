{
 "cells": [
  {
   "cell_type": "code",
   "execution_count": 7,
   "metadata": {},
   "outputs": [],
   "source": [
    "import json\n",
    "from pathlib import Path\n",
    "\n",
    "with open(\"ucsd-progsys-yunounderstand-data-d38fc57/data/derived/sp14/pairs.json\") as f:\n",
    "    bad_fix_pairs = []\n",
    "    for line in f:\n",
    "        bad_fix_pairs.append(json.loads(line))"
   ]
  },
  {
   "cell_type": "code",
   "execution_count": 8,
   "metadata": {},
   "outputs": [
    {
     "name": "stdout",
     "output_type": "stream",
     "text": [
      "Number of bad-fix pairs:  3582\n",
      "Number of unique bad-fix pairs:  3582\n",
      "Number of problems:  22\n",
      "Count of bad-fix pairs by problem:\n"
     ]
    },
    {
     "data": {
      "text/plain": [
       "problem\n",
       "bigAdd                 705\n",
       "eval                   442\n",
       "fixpoint               328\n",
       "pipe                   309\n",
       "digitsOfInt            290\n",
       "exprToString           217\n",
       "build                  174\n",
       "mulByDigit             150\n",
       "stringOfList           135\n",
       "listReverse            127\n",
       "padZero                104\n",
       "bigMul                  95\n",
       "removeDuplicates        82\n",
       "sepConcat               76\n",
       "additivePersistence     74\n",
       "clone                   68\n",
       "sqsum                   61\n",
       "sumList                 44\n",
       "wwhile                  39\n",
       "palindrome              30\n",
       "assoc                   17\n",
       "digitalRoot             15\n",
       "Name: count, dtype: int64"
      ]
     },
     "execution_count": 8,
     "metadata": {},
     "output_type": "execute_result"
    }
   ],
   "source": [
    "import pandas as pd\n",
    "bad_fix_df = pd.DataFrame(bad_fix_pairs)\n",
    "print(\"Number of bad-fix pairs: \", len(bad_fix_df))\n",
    "print(\"Number of unique bad-fix pairs: \", len(bad_fix_df.drop_duplicates()))\n",
    "print(\"Number of problems: \", len(bad_fix_df[\"problem\"].unique()))\n",
    "print(\"Count of bad-fix pairs by problem:\")\n",
    "bad_fix_df[\"problem\"].value_counts()"
   ]
  },
  {
   "cell_type": "code",
   "execution_count": 9,
   "metadata": {},
   "outputs": [
    {
     "data": {
      "text/html": [
       "<div>\n",
       "<style scoped>\n",
       "    .dataframe tbody tr th:only-of-type {\n",
       "        vertical-align: middle;\n",
       "    }\n",
       "\n",
       "    .dataframe tbody tr th {\n",
       "        vertical-align: top;\n",
       "    }\n",
       "\n",
       "    .dataframe thead th {\n",
       "        text-align: right;\n",
       "    }\n",
       "</style>\n",
       "<table border=\"1\" class=\"dataframe\">\n",
       "  <thead>\n",
       "    <tr style=\"text-align: right;\">\n",
       "      <th></th>\n",
       "      <th>hw</th>\n",
       "      <th>index</th>\n",
       "      <th>problem</th>\n",
       "      <th>bad</th>\n",
       "      <th>fix</th>\n",
       "    </tr>\n",
       "  </thead>\n",
       "  <tbody>\n",
       "    <tr>\n",
       "      <th>0</th>\n",
       "      <td>hw3</td>\n",
       "      <td>0</td>\n",
       "      <td>bigAdd</td>\n",
       "      <td>\\nlet rec clone x n = if n &lt;= 0 then [] else x...</td>\n",
       "      <td>\\nlet rec clone x n = if n &lt;= 0 then [] else x...</td>\n",
       "    </tr>\n",
       "    <tr>\n",
       "      <th>1</th>\n",
       "      <td>hw3</td>\n",
       "      <td>1</td>\n",
       "      <td>bigAdd</td>\n",
       "      <td>\\nlet rec clone x n = if n &lt;= 0 then [] else x...</td>\n",
       "      <td>\\nlet rec clone x n = if n &lt;= 0 then [] else x...</td>\n",
       "    </tr>\n",
       "    <tr>\n",
       "      <th>2</th>\n",
       "      <td>hw3</td>\n",
       "      <td>2</td>\n",
       "      <td>bigAdd</td>\n",
       "      <td>\\nlet rec clone x n = if n &lt;= 0 then [] else x...</td>\n",
       "      <td>\\nlet rec clone x n = if n &lt;= 0 then [] else x...</td>\n",
       "    </tr>\n",
       "    <tr>\n",
       "      <th>3</th>\n",
       "      <td>hw3</td>\n",
       "      <td>3</td>\n",
       "      <td>bigAdd</td>\n",
       "      <td>\\nlet rec clone x n = if n &lt;= 0 then [] else x...</td>\n",
       "      <td>\\nlet rec clone x n = if n &lt;= 0 then [] else x...</td>\n",
       "    </tr>\n",
       "    <tr>\n",
       "      <th>4</th>\n",
       "      <td>hw3</td>\n",
       "      <td>4</td>\n",
       "      <td>bigAdd</td>\n",
       "      <td>\\nlet rec clone x n = if n &lt;= 0 then [] else x...</td>\n",
       "      <td>\\nlet rec clone x n = if n &lt;= 0 then [] else x...</td>\n",
       "    </tr>\n",
       "  </tbody>\n",
       "</table>\n",
       "</div>"
      ],
      "text/plain": [
       "    hw  index problem                                                bad  \\\n",
       "0  hw3      0  bigAdd  \\nlet rec clone x n = if n <= 0 then [] else x...   \n",
       "1  hw3      1  bigAdd  \\nlet rec clone x n = if n <= 0 then [] else x...   \n",
       "2  hw3      2  bigAdd  \\nlet rec clone x n = if n <= 0 then [] else x...   \n",
       "3  hw3      3  bigAdd  \\nlet rec clone x n = if n <= 0 then [] else x...   \n",
       "4  hw3      4  bigAdd  \\nlet rec clone x n = if n <= 0 then [] else x...   \n",
       "\n",
       "                                                 fix  \n",
       "0  \\nlet rec clone x n = if n <= 0 then [] else x...  \n",
       "1  \\nlet rec clone x n = if n <= 0 then [] else x...  \n",
       "2  \\nlet rec clone x n = if n <= 0 then [] else x...  \n",
       "3  \\nlet rec clone x n = if n <= 0 then [] else x...  \n",
       "4  \\nlet rec clone x n = if n <= 0 then [] else x...  "
      ]
     },
     "execution_count": 9,
     "metadata": {},
     "output_type": "execute_result"
    }
   ],
   "source": [
    "bad_fix_df.head()"
   ]
  },
  {
   "cell_type": "code",
   "execution_count": 10,
   "metadata": {},
   "outputs": [],
   "source": [
    "nate_dataset_dir = Path(\"nate-dataset/sp14\")\n",
    "nate_dataset_dir.mkdir(exist_ok=True, parents=True)\n",
    "\n",
    "def make_prompt(row):\n",
    "    return f\"(* The following function contains bugs: *){row['bad']}(* The corresponding fix is: *)\"\n",
    "\n",
    "bad_fix_output_rows = [\n",
    "    {\n",
    "        \"hw\": row[\"hw\"],\n",
    "        \"index\": row[\"index\"],\n",
    "        \"problem\": row[\"problem\"],\n",
    "        \"prompt\": make_prompt(row),\n",
    "        \"lang\": \"ocaml\",\n",
    "        \"fix\": row[\"fix\"],\n",
    "    }\n",
    "    for _, row in bad_fix_df.iterrows()\n",
    "] \n",
    "\n",
    "with open(nate_dataset_dir / \"pairs.jsonl\", \"w\") as f:\n",
    "    for row in bad_fix_output_rows:\n",
    "        f.write(json.dumps(row) + \"\\n\")\n"
   ]
  }
 ],
 "metadata": {
  "kernelspec": {
   "display_name": "base",
   "language": "python",
   "name": "python3"
  },
  "language_info": {
   "codemirror_mode": {
    "name": "ipython",
    "version": 3
   },
   "file_extension": ".py",
   "mimetype": "text/x-python",
   "name": "python",
   "nbconvert_exporter": "python",
   "pygments_lexer": "ipython3",
   "version": "3.10.12"
  },
  "orig_nbformat": 4
 },
 "nbformat": 4,
 "nbformat_minor": 2
}
