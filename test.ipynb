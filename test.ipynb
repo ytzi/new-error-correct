{
 "cells": [
  {
   "cell_type": "code",
   "execution_count": 2,
   "metadata": {},
   "outputs": [
    {
     "name": "stdout",
     "output_type": "stream",
     "text": [
      "tensor([[1.1501, 0.0680, 1.2978],\n",
      "        [1.6387, 1.3281, 1.3818],\n",
      "        [1.7905, 0.1017, 1.6345],\n",
      "        [0.5013, 0.3602, 1.7003],\n",
      "        [0.8587, 0.9017, 0.8180]], device='cuda:0')\n"
     ]
    }
   ],
   "source": [
    "import vllm\n",
    "import argparse\n",
    "import json\n",
    "from tqdm import tqdm\n",
    "from pathlib import Path\n",
    "\n",
    "def generate(model, prompts, batch_size=32, **kwargs):\n",
    "    params = vllm.SamplingParams(**kwargs)\n",
    "    llm = vllm.LLM(model=model)\n",
    "    prompts_split_by_batch = [prompts[i:i + batch_size] for i in range(0, len(prompts), batch_size)]\n",
    "    outputs = []\n",
    "    for batch in tqdm(prompts_split_by_batch, desc=\"batch\", total=len(prompts_split_by_batch)):\n",
    "        batch_text = [b[\"prompt\"] for b in batch]\n",
    "        output = llm.generate(batch_text, params)\n",
    "        outputs.extend(output)\n",
    "    return outputs\n",
    "\n",
    "def read_prompts(prompt_file: Path):\n",
    "    with open(prompt_file, 'r') as f:\n",
    "        prompts = [json.loads(line) for line in f]\n",
    "    return prompts\n",
    "\n",
    "def produce_output(output_file: Path, outputs):\n",
    "    with open(output_file, 'w') as f:\n",
    "        f.write(json.dumps(outputs))\n",
    "\n",
    "    "
   ]
  },
  {
   "cell_type": "code",
   "execution_count": null,
   "metadata": {},
   "outputs": [],
   "source": [
    "prompt_file = \"./nate-dataset/sp14/pairs.json\"\n",
    "model_dir = \"/work/arjunguha-research-group/arjun/models/starcoderbase-1b\"\n",
    "prompts = read_prompts()\n",
    "outputs = generate(model_dir, prompts, 32, temperature=0.8, top_p=0.9)\n",
    "produce_output(args.output_file, outputs)"
   ]
  }
 ],
 "metadata": {
  "kernelspec": {
   "display_name": "Python 3 (ipykernel)",
   "language": "python",
   "name": "python3"
  },
  "language_info": {
   "codemirror_mode": {
    "name": "ipython",
    "version": 3
   },
   "file_extension": ".py",
   "mimetype": "text/x-python",
   "name": "python",
   "nbconvert_exporter": "python",
   "pygments_lexer": "ipython3",
   "version": "3.9.12"
  }
 },
 "nbformat": 4,
 "nbformat_minor": 4
}
